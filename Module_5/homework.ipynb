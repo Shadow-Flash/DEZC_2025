{
 "cells": [
  {
   "cell_type": "code",
   "execution_count": 1,
   "id": "1cd440e3-3f15-43ff-b603-a15947f9bf2c",
   "metadata": {},
   "outputs": [],
   "source": [
    "import pyspark\n",
    "from pyspark.sql import SparkSession"
   ]
  },
  {
   "cell_type": "code",
   "execution_count": 2,
   "id": "c740761f-3e00-436f-bf77-f2c52e480447",
   "metadata": {},
   "outputs": [
    {
     "data": {
      "text/plain": [
       "'3.5.5'"
      ]
     },
     "execution_count": 2,
     "metadata": {},
     "output_type": "execute_result"
    }
   ],
   "source": [
    "pyspark.__version__"
   ]
  },
  {
   "cell_type": "code",
   "execution_count": 3,
   "id": "c5465b06-0de8-4cf3-aaa0-8073259adce0",
   "metadata": {},
   "outputs": [
    {
     "name": "stderr",
     "output_type": "stream",
     "text": [
      "25/03/06 01:13:25 WARN Utils: Your hostname, Varuns-MacBook-Air.local resolves to a loopback address: 127.0.0.1; using 192.168.29.135 instead (on interface en0)\n",
      "25/03/06 01:13:25 WARN Utils: Set SPARK_LOCAL_IP if you need to bind to another address\n",
      "Setting default log level to \"WARN\".\n",
      "To adjust logging level use sc.setLogLevel(newLevel). For SparkR, use setLogLevel(newLevel).\n",
      "25/03/06 01:13:25 WARN NativeCodeLoader: Unable to load native-hadoop library for your platform... using builtin-java classes where applicable\n"
     ]
    }
   ],
   "source": [
    "spark = SparkSession.builder \\\n",
    "    .master(\"local[*]\") \\\n",
    "    .appName('test') \\\n",
    "    .getOrCreate()"
   ]
  },
  {
   "cell_type": "code",
   "execution_count": 4,
   "id": "8e977ed0-0527-48dc-87a8-1d7afd4f8c09",
   "metadata": {},
   "outputs": [
    {
     "name": "stdout",
     "output_type": "stream",
     "text": [
      "--2025-03-05 02:57:26--  https://d37ci6vzurychx.cloudfront.net/trip-data/yellow_tripdata_2024-10.parquet\n",
      "Resolving d37ci6vzurychx.cloudfront.net (d37ci6vzurychx.cloudfront.net)... 2600:9000:21f8:2800:b:20a5:b140:21, 2600:9000:21f8:7800:b:20a5:b140:21, 2600:9000:21f8:8c00:b:20a5:b140:21, ...\n",
      "connected. to d37ci6vzurychx.cloudfront.net (d37ci6vzurychx.cloudfront.net)|2600:9000:21f8:2800:b:20a5:b140:21|:443... \n",
      "HTTP request sent, awaiting response... 200 OK\n",
      "Length: 64346071 (61M) [binary/octet-stream]\n",
      "Saving to: ‘yellow_tripdata_2024-10.parquet’\n",
      "\n",
      "yellow_tripdata_202 100%[===================>]  61.36M  11.7MB/s    in 6.2s    \n",
      "\n",
      "2025-03-05 02:57:33 (9.95 MB/s) - ‘yellow_tripdata_2024-10.parquet’ saved [64346071/64346071]\n",
      "\n"
     ]
    }
   ],
   "source": [
    "!wget https://d37ci6vzurychx.cloudfront.net/trip-data/yellow_tripdata_2024-10.parquet"
   ]
  },
  {
   "cell_type": "code",
   "execution_count": 5,
   "id": "22bf28cf-7961-4e76-9912-f96e680ed372",
   "metadata": {},
   "outputs": [],
   "source": [
    "df = spark.read.parquet('yellow_tripdata_2024-10.parquet')"
   ]
  },
  {
   "cell_type": "code",
   "execution_count": 6,
   "id": "78b05b19-2f8a-48ec-b80b-ed3a303eed7d",
   "metadata": {},
   "outputs": [
    {
     "data": {
      "text/plain": [
       "3833771"
      ]
     },
     "execution_count": 6,
     "metadata": {},
     "output_type": "execute_result"
    }
   ],
   "source": [
    "df.count()"
   ]
  },
  {
   "cell_type": "code",
   "execution_count": 7,
   "id": "02825015-ef3d-47fb-835a-d43ea0447799",
   "metadata": {},
   "outputs": [],
   "source": [
    "df = df.repartition(4)"
   ]
  },
  {
   "cell_type": "code",
   "execution_count": 9,
   "id": "ec1639af-1feb-44a3-bdc7-8f028c09cbc5",
   "metadata": {},
   "outputs": [
    {
     "name": "stderr",
     "output_type": "stream",
     "text": [
      "                                                                                "
     ]
    }
   ],
   "source": [
    "df.write.parquet('data/homework/', mode='overwrite')"
   ]
  },
  {
   "cell_type": "code",
   "execution_count": 12,
   "id": "d4332784-7d93-46f0-addc-1aa8f56d87a1",
   "metadata": {},
   "outputs": [],
   "source": [
    "df.createOrReplaceTempView('data')"
   ]
  },
  {
   "cell_type": "code",
   "execution_count": 25,
   "id": "d0340dd4-f6c2-4da3-913b-020514671091",
   "metadata": {},
   "outputs": [
    {
     "name": "stderr",
     "output_type": "stream",
     "text": [
      "[Stage 31:====================================>                     (5 + 3) / 8]"
     ]
    },
    {
     "name": "stdout",
     "output_type": "stream",
     "text": [
      "+--------+--------------------+---------------------+---------------+-------------+----------+------------------+------------+------------+------------+-----------+-----+-------+----------+------------+---------------------+------------+--------------------+-----------+\n",
      "|VendorID|tpep_pickup_datetime|tpep_dropoff_datetime|passenger_count|trip_distance|RatecodeID|store_and_fwd_flag|PULocationID|DOLocationID|payment_type|fare_amount|extra|mta_tax|tip_amount|tolls_amount|improvement_surcharge|total_amount|congestion_surcharge|Airport_fee|\n",
      "+--------+--------------------+---------------------+---------------+-------------+----------+------------------+------------+------------+------------+-----------+-----+-------+----------+------------+---------------------+------------+--------------------+-----------+\n",
      "|       1| 2024-10-07 16:40:43|  2024-10-07 18:10:56|              1|         14.8|        99|                 N|         127|         225|           1|       47.5|  0.0|    0.5|       0.0|        6.94|                  0.0|       54.94|                 0.0|        0.0|\n",
      "|       2| 2024-10-04 14:17:41|  2024-10-04 14:26:47|              1|          1.1|         1|                 N|         113|         211|           1|        9.3|  0.0|    0.5|      2.66|         0.0|                  1.0|       15.96|                 2.5|        0.0|\n",
      "|       2| 2024-10-01 11:17:28|  2024-10-01 11:32:18|              1|         4.63|         1|                 N|         231|         170|           1|       21.9|  0.0|    0.5|      5.18|         0.0|                  1.0|       31.08|                 2.5|        0.0|\n",
      "|       1| 2024-10-08 17:12:07|  2024-10-08 17:35:56|              1|          2.4|         1|                 N|         236|         100|           1|       19.8|  5.0|    0.5|      5.25|         0.0|                  1.0|       31.55|                 2.5|        0.0|\n",
      "|       1| 2024-10-01 15:37:08|  2024-10-01 15:54:23|              1|          2.1|         1|                 N|         237|          75|           1|       16.3|  2.5|    0.5|      4.05|         0.0|                  1.0|       24.35|                 2.5|        0.0|\n",
      "|       1| 2024-10-09 10:14:04|  2024-10-09 10:28:13|              1|          1.7|         1|                 N|         161|         234|           1|       12.8|  2.5|    0.5|      3.35|         0.0|                  1.0|       20.15|                 2.5|        0.0|\n",
      "|       2| 2024-10-04 17:08:38|  2024-10-04 18:03:10|              1|        17.42|         1|                 N|         132|          17|           1|       75.1|  2.5|    0.5|     19.77|         0.0|                  1.0|      100.62|                 0.0|       1.75|\n",
      "|       2| 2024-10-05 01:27:22|  2024-10-05 01:40:37|              1|         1.88|         1|                 N|         148|         137|           1|       13.5|  1.0|    0.5|       3.7|         0.0|                  1.0|        22.2|                 2.5|        0.0|\n",
      "|       2| 2024-10-05 23:50:45|  2024-10-06 00:00:32|              1|         1.06|         1|                 N|          79|         211|           1|       10.0|  1.0|    0.5|       2.0|         0.0|                  1.0|        17.0|                 2.5|        0.0|\n",
      "|       2| 2024-10-02 14:31:14|  2024-10-02 14:45:59|              1|         2.88|         1|                 N|         231|         246|           2|       17.0|  0.0|    0.5|       0.0|         0.0|                  1.0|        21.0|                 2.5|        0.0|\n",
      "|       2| 2024-10-10 08:25:53|  2024-10-10 08:27:59|              1|          0.4|         1|                 N|         237|         237|           1|        4.4|  0.0|    0.5|       2.5|         0.0|                  1.0|        10.9|                 2.5|        0.0|\n",
      "|       2| 2024-10-04 23:07:32|  2024-10-04 23:15:38|              1|         0.94|         1|                 N|         142|          48|           1|        9.3|  1.0|    0.5|      2.86|         0.0|                  1.0|       17.16|                 2.5|        0.0|\n",
      "|       2| 2024-10-04 17:00:04|  2024-10-04 17:07:54|              1|         0.85|         1|                 N|         170|         137|           2|        8.6|  2.5|    0.5|       0.0|         0.0|                  1.0|        15.1|                 2.5|        0.0|\n",
      "|       1| 2024-10-09 23:12:34|  2024-10-09 23:29:17|              1|          3.5|         1|                 N|         163|         211|           1|       17.7|  3.5|    0.5|       1.5|         0.0|                  1.0|        24.2|                 2.5|        0.0|\n",
      "|       2| 2024-10-09 21:19:16|  2024-10-09 21:53:56|              1|        12.33|         1|                 N|         237|         181|           1|       51.3|  1.0|    0.5|     15.81|        6.94|                  1.0|       79.05|                 2.5|        0.0|\n",
      "|       2| 2024-10-02 15:30:00|  2024-10-02 15:36:43|              1|         0.54|         1|                 N|          79|         113|           1|        7.2|  0.0|    0.5|       2.0|         0.0|                  1.0|        13.2|                 2.5|        0.0|\n",
      "|       2| 2024-10-01 20:12:23|  2024-10-01 20:23:32|              1|          2.1|         1|                 N|         161|         239|           1|       12.8|  1.0|    0.5|      3.56|         0.0|                  1.0|       21.36|                 2.5|        0.0|\n",
      "|       2| 2024-10-04 17:46:07|  2024-10-04 17:54:18|              1|         1.34|         1|                 N|         161|         141|           1|        9.3|  2.5|    0.5|      3.16|         0.0|                  1.0|       18.96|                 2.5|        0.0|\n",
      "|       2| 2024-10-05 09:16:58|  2024-10-05 09:20:40|              2|         0.91|         1|                 N|         141|         236|           1|        6.5|  0.0|    0.5|       2.1|         0.0|                  1.0|        12.6|                 2.5|        0.0|\n",
      "|       2| 2024-10-08 16:14:39|  2024-10-08 16:26:05|              1|          2.2|         1|                 N|         249|          13|           1|       13.5|  2.5|    0.5|       4.0|         0.0|                  1.0|        24.0|                 2.5|        0.0|\n",
      "+--------+--------------------+---------------------+---------------+-------------+----------+------------------+------------+------------+------------+-----------+-----+-------+----------+------------+---------------------+------------+--------------------+-----------+\n",
      "only showing top 20 rows\n",
      "\n"
     ]
    },
    {
     "name": "stderr",
     "output_type": "stream",
     "text": [
      "                                                                                "
     ]
    }
   ],
   "source": [
    "df.show()"
   ]
  },
  {
   "cell_type": "code",
   "execution_count": 11,
   "id": "2e0e36e1-0b08-4de7-8b8e-911861852720",
   "metadata": {},
   "outputs": [],
   "source": [
    "df.createOrReplaceTempView(\"data\")"
   ]
  },
  {
   "cell_type": "code",
   "execution_count": 12,
   "id": "7ba50e96-c916-4c01-b2df-82171374a812",
   "metadata": {},
   "outputs": [],
   "source": [
    "df_result = spark.sql(\"\"\"\n",
    "SELECT COUNT(1) as trip_count\n",
    "FROM data\n",
    "WHERE tpep_pickup_datetime >= \"2024-10-15 00:00:00\" and tpep_dropoff_datetime <= \"2024-10-15 23:59:59\"\n",
    "\"\"\")"
   ]
  },
  {
   "cell_type": "code",
   "execution_count": 13,
   "id": "8558773a-fcb7-498d-8d1c-99935cd47da6",
   "metadata": {},
   "outputs": [
    {
     "name": "stdout",
     "output_type": "stream",
     "text": [
      "+----------+\n",
      "|trip_count|\n",
      "+----------+\n",
      "|    127993|\n",
      "+----------+\n",
      "\n"
     ]
    }
   ],
   "source": [
    "df_result.show()"
   ]
  },
  {
   "cell_type": "code",
   "execution_count": 22,
   "id": "cb2ca561-e39e-49a1-ad93-c899eae32642",
   "metadata": {},
   "outputs": [],
   "source": [
    "df_new_result = spark.sql(\"\"\"\n",
    "SELECT \n",
    "    MAX(EXTRACT(HOUR FROM (tpep_dropoff_datetime - tpep_pickup_datetime))) AS longest_trip_hours\n",
    "FROM data;\n",
    "\"\"\")"
   ]
  },
  {
   "cell_type": "code",
   "execution_count": 25,
   "id": "180a1460-f77a-4e19-9ae5-ed992ab2a9e1",
   "metadata": {},
   "outputs": [
    {
     "name": "stdout",
     "output_type": "stream",
     "text": [
      "--2025-03-06 01:32:57--  https://d37ci6vzurychx.cloudfront.net/misc/taxi_zone_lookup.csv\n",
      "Resolving d37ci6vzurychx.cloudfront.net (d37ci6vzurychx.cloudfront.net)... 2600:9000:21f8:fc00:b:20a5:b140:21, 2600:9000:21f8:400:b:20a5:b140:21, 2600:9000:21f8:c000:b:20a5:b140:21, ...\n",
      "connected. to d37ci6vzurychx.cloudfront.net (d37ci6vzurychx.cloudfront.net)|2600:9000:21f8:fc00:b:20a5:b140:21|:443... \n",
      "HTTP request sent, awaiting response... 200 OK\n",
      "Length: 12331 (12K) [text/csv]\n",
      "Saving to: ‘taxi_zone_lookup.csv.1’\n",
      "\n",
      "taxi_zone_lookup.cs 100%[===================>]  12.04K  --.-KB/s    in 0.02s   \n",
      "\n",
      "2025-03-06 01:32:58 (695 KB/s) - ‘taxi_zone_lookup.csv.1’ saved [12331/12331]\n",
      "\n"
     ]
    }
   ],
   "source": [
    "!wget https://d37ci6vzurychx.cloudfront.net/misc/taxi_zone_lookup.csv"
   ]
  },
  {
   "cell_type": "code",
   "execution_count": 26,
   "id": "48f8a133-02e4-4290-89d3-4f19b7d81996",
   "metadata": {},
   "outputs": [],
   "source": [
    "trips_df = spark.read.parquet(\"yellow_tripdata_2024-10.parquet\")"
   ]
  },
  {
   "cell_type": "code",
   "execution_count": 27,
   "id": "e7054ea9",
   "metadata": {},
   "outputs": [],
   "source": [
    "zones_df = spark.read.csv(\"taxi_zone_lookup.csv\", header=True, inferSchema=True)"
   ]
  },
  {
   "cell_type": "code",
   "execution_count": 28,
   "id": "2c314df6",
   "metadata": {},
   "outputs": [],
   "source": [
    "trips_df.createOrReplaceTempView(\"trips\")\n",
    "zones_df.createOrReplaceTempView(\"zones\")"
   ]
  },
  {
   "cell_type": "code",
   "execution_count": 29,
   "id": "96c308d9",
   "metadata": {},
   "outputs": [],
   "source": [
    "result = spark.sql( \"\"\"\n",
    "SELECT z.Zone, COUNT(t.PULocationID) as pickup_count\n",
    "FROM trips t\n",
    "JOIN zones z ON t.PULocationID = z.LocationID\n",
    "GROUP BY z.Zone\n",
    "ORDER BY pickup_count ASC\n",
    "LIMIT 1\n",
    "\"\"\")"
   ]
  },
  {
   "cell_type": "code",
   "execution_count": 30,
   "id": "5d876e5d",
   "metadata": {},
   "outputs": [
    {
     "name": "stderr",
     "output_type": "stream",
     "text": [
      "[Stage 30:=============================>                            (4 + 4) / 8]"
     ]
    },
    {
     "name": "stdout",
     "output_type": "stream",
     "text": [
      "+--------------------+------------+\n",
      "|                Zone|pickup_count|\n",
      "+--------------------+------------+\n",
      "|Governor's Island...|           1|\n",
      "+--------------------+------------+\n",
      "\n"
     ]
    },
    {
     "name": "stderr",
     "output_type": "stream",
     "text": [
      "                                                                                "
     ]
    }
   ],
   "source": [
    "result.show()"
   ]
  },
  {
   "cell_type": "code",
   "execution_count": null,
   "id": "fbf14926-c65b-4192-9f80-2ea77fd43dd4",
   "metadata": {},
   "outputs": [],
   "source": []
  }
 ],
 "metadata": {
  "kernelspec": {
   "display_name": "Python 3 (ipykernel)",
   "language": "python",
   "name": "python3"
  },
  "language_info": {
   "codemirror_mode": {
    "name": "ipython",
    "version": 3
   },
   "file_extension": ".py",
   "mimetype": "text/x-python",
   "name": "python",
   "nbconvert_exporter": "python",
   "pygments_lexer": "ipython3",
   "version": "3.13.1"
  }
 },
 "nbformat": 4,
 "nbformat_minor": 5
}
